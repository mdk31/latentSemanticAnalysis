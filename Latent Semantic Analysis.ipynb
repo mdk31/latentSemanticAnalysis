{
 "cells": [
  {
   "cell_type": "markdown",
   "id": "aba7cf0f",
   "metadata": {},
   "source": [
    "# Latent Semantic Analysis\n",
    "\n",
    "One NLP method I've always found interesting is latent semantic analysis (LSA), an early NLP method that uses matrix decomposition to discover unobserved \"latent\" semantic associations between words in different documents. In this project, I want to use this method to construct an index for a particular work. This was inspired by Cosma Shalizi's data analysis book, in which he discusses using LSI to construct an index in Adam Smith's \"The Wealth of Nations.\" I was unable to find the edition of the work he uses, so I employ a slightly different but related book: Karl Marx's \"Capital, Volume I.\"  \n",
    "\n",
    "This document is completely self-contained except for the document itself. We use the Penguin edition originally published in 1976, but for copyright reasons, I don't have it uploaded on Github (Marx 2004). First, we import the modules we will need:\n"
   ]
  },
  {
   "cell_type": "code",
   "execution_count": 1,
   "id": "1d5826fd",
   "metadata": {},
   "outputs": [],
   "source": [
    "import PyPDF2\n",
    "from sklearn.feature_extraction.text import CountVectorizer\n",
    "from sklearn.decomposition import TruncatedSVD\n",
    "import pandas as pd\n",
    "import numpy as np\n",
    "import logging\n",
    "logger = logging.getLogger(\"PyPDF2\")\n",
    "logger.setLevel(logging.ERROR)\n",
    "\n",
    "capital_file = 'Marx_Capital_1.pdf'\n",
    "capital = open(capital_file, 'rb')\n",
    "capitalReader = PyPDF2.PdfReader(capital)\n",
    "\n",
    "# The actual text starts on page 124\n",
    "first_page = 123\n",
    "last_page = 1083\n",
    "page_text = []\n",
    "for pageNum in range(first_page, last_page):\n",
    "    page_text.append(capitalReader.pages[pageNum].extract_text())"
   ]
  },
  {
   "cell_type": "markdown",
   "id": "a9b2a2f5",
   "metadata": {},
   "source": [
    "We need to construct a matrix that can be used to find the latent semantics. In the spirit of the original paper, we look at a pure \"count\" matrix that measures the number of times each word appears in each document (which in this project is a page of the text). Alternatively, we could use a term frequency-inverse document frequency (tf-idf) matrix, which in addition to counts incorporates how frequently a word appears across the corpus. We instantiate a `CountVectorizer` object that eliminates English language stop words and then construct the count matrix $X$. We don't do any other sort of processing like stemming words. We will see that even with very basic processing, we can get interesting results."
   ]
  },
  {
   "cell_type": "code",
   "execution_count": null,
   "id": "d2806b26",
   "metadata": {},
   "outputs": [],
   "source": [
    "vectorizer = CountVectorizer(stop_words='english',\n",
    "                             strip_accents='ascii')\n",
    "X = vectorizer.fit_transform(page_text)\n",
    "features = vectorizer.get_feature_names_out()\n",
    "idx_word = 'religion'\n",
    "word_idx = np.where(features == idx_word)[0][0]"
   ]
  },
  {
   "cell_type": "markdown",
   "id": "21812cfa",
   "metadata": {},
   "source": [
    "In this project, we are going to construct an index for the word \"religion.\" One obvious way to do this is to look at raw word counts and peel off the top 10 pages that most frequently mention the word \"religion.\" "
   ]
  },
  {
   "cell_type": "code",
   "execution_count": 4,
   "id": "747be648",
   "metadata": {},
   "outputs": [],
   "source": [
    "df = pd.DataFrame(X.toarray(), columns=vectorizer.get_feature_names_out())\n",
    "top10 = df.sort_values(by='religion', ascending=False).iloc[0:10, :]\n",
    "top10_index = top10.index.values"
   ]
  },
  {
   "cell_type": "markdown",
   "id": "23fe70a9",
   "metadata": {},
   "source": [
    "This doesn't work in general, because it will only include pages that have the word \"religion\" and will not include pages that discuss religion but don't use the word (Shalizi 2016, p. 383). Instead, we will decompose the matrix $X$ to try and discover latent semantics.\n",
    "\n",
    "For any $m \\times n$ matrix with real or complex entries, we can decompose $A$ as:\n",
    "\n",
    "\\begin{equation}\n",
    "A = U \\Sigma V^T\n",
    "\\end{equation}\n",
    "\n",
    "where $U$ and $V$ are orthogonal matrices and $\\Sigma$ is a diagonal matrix. The columns of $U$ are the left singular vectors of $A$ and are the eigenvectors of $AA^T$. Similarly, the columns are the right singular vectors of $A$, or the eigenvectors of $A^TA$. These two matrices can be used to eigendecompose the matrices $AA^T$ or $A^TA$. The idea behind LSI is that, once we have the SVD decomposition of $X$, we can find a lower dimensional representation of the matrix by truncating the singular values to only keep the $k$ largest ones. It is a well-known theorem that this produces the best rank-$k$ approximation to the original matrix (measured in terms of the Frobenius norm). \n",
    "\n",
    "We rarely have a clear idea of what $k$ should be in any practical application. As with PCA, this is primarily a trial and error process. The original LSI paper recommends using between 50-100 factors (Deerwester et. al. 1990, p. 7). In this case, we use 75 singular vectors to truncate the SVD. The module `sklearn` has a fast truncated SVD decomposition in the `TruncatedSVD` class."
   ]
  },
  {
   "cell_type": "code",
   "execution_count": 5,
   "id": "1c88e01d",
   "metadata": {},
   "outputs": [],
   "source": [
    "ncomponents = 75\n",
    "svd = TruncatedSVD(n_components=ncomponents, n_iter=10, random_state=42)"
   ]
  },
  {
   "cell_type": "markdown",
   "id": "a31f9f31",
   "metadata": {},
   "source": [
    "Once we do this, we can fit the method on our $X$ matrix and reconstruct a rank-k approximation $\\hat{X}$; after this, we extract the documents most similar to our word of interest. In this case, our target word \"religion\" is already in the corpus, but we can apply this in general to words not in the corpus by transforming the query word into the new reduced-dimension feature space."
   ]
  },
  {
   "cell_type": "code",
   "execution_count": 6,
   "id": "451e19ff",
   "metadata": {},
   "outputs": [],
   "source": [
    "Xhat = svd.fit_transform(X).dot(svd.components_)\n",
    "word_col = Xhat[:, word_idx]\n",
    "row_idx = np.argsort(word_col)[::-1]\n",
    "row_idx = row_idx[:10]"
   ]
  },
  {
   "cell_type": "markdown",
   "id": "53a6c267",
   "metadata": {},
   "source": [
    "In the same way principal components analysis (PCA) assumes there is underlying structure in the dataset that can be extracted, the SVD decomposition assumes there are meaningful underlying patterns in the data that are obscured by noise. To see an example of this, let's see what happens when we decompose the matrix. Looking at the raw counts, we see the word \"religion\" does not appear on the first five pages."
   ]
  },
  {
   "cell_type": "code",
   "execution_count": 7,
   "id": "637bab76",
   "metadata": {},
   "outputs": [
    {
     "name": "stdout",
     "output_type": "stream",
     "text": [
      "0    0\n",
      "1    0\n",
      "2    0\n",
      "3    0\n",
      "4    0\n",
      "Name: religion, dtype: int64\n"
     ]
    }
   ],
   "source": [
    "print(df.iloc[0:5, word_idx])"
   ]
  },
  {
   "cell_type": "markdown",
   "id": "f279541a",
   "metadata": {},
   "source": [
    "Compare this to the first five pages of the approximate matrix:"
   ]
  },
  {
   "cell_type": "code",
   "execution_count": 10,
   "id": "fbaf14a6",
   "metadata": {},
   "outputs": [
    {
     "name": "stdout",
     "output_type": "stream",
     "text": [
      "0    0.029056\n",
      "1    0.027789\n",
      "2    0.010388\n",
      "3    0.001513\n",
      "4   -0.003449\n",
      "Name: religion, dtype: float64\n"
     ]
    }
   ],
   "source": [
    "dfhat = pd.DataFrame(Xhat, columns=vectorizer.get_feature_names_out())\n",
    "print(dfhat.iloc[0:5, word_idx])"
   ]
  },
  {
   "cell_type": "markdown",
   "id": "2bb6ce83",
   "metadata": {},
   "source": [
    "The entries are no longer 0, representing that the decomposition has discovered there is some association between the target word and these documents, no matter how small it is."
   ]
  },
  {
   "cell_type": "markdown",
   "id": "7deedead",
   "metadata": {},
   "source": [
    "## Results\n",
    "\n",
    "How does the decomposition method compare to the index produced by the raw word count? We compare the top 10 pages from the decomposition matrix to the original matrix. "
   ]
  },
  {
   "cell_type": "code",
   "execution_count": 11,
   "id": "f30b2eab",
   "metadata": {},
   "outputs": [
    {
     "name": "stdout",
     "output_type": "stream",
     "text": [
      "The truncated SVD composition produces the following index: [ 50  40 643 368 642  41 634 222  48  96]\n",
      "The word count method produces the following index: [634  47 643 782 450  50  40 369 237 773]\n"
     ]
    }
   ],
   "source": [
    "print(f\"The truncated SVD composition produces the following index: {row_idx}\")\n",
    "print(f\"The word count method produces the following index: {top10_index}\")"
   ]
  },
  {
   "cell_type": "markdown",
   "id": "8a1656c4",
   "metadata": {},
   "source": [
    "We can see that these are similar, but not quite the same. What is the SVD method uncovering? Let's look at the index 48, which appears in the top 10 for the SVD index but not in top 10 for the word count. Does this appear in the word count index at all?"
   ]
  },
  {
   "cell_type": "code",
   "execution_count": 12,
   "id": "64d5ab8f",
   "metadata": {},
   "outputs": [
    {
     "name": "stdout",
     "output_type": "stream",
     "text": [
      "The word 'religion' does not appear on the page\n"
     ]
    }
   ],
   "source": [
    "if df.iloc[48, word_idx] == 0:\n",
    "    print(\"The word 'religion' does not appear on the page\")\n",
    "else:\n",
    "    print(\"The word 'religion' appears on the page\")"
   ]
  },
  {
   "cell_type": "code",
   "execution_count": 13,
   "id": "e5017da2",
   "metadata": {
    "scrolled": true
   },
   "outputs": [
    {
     "name": "stdout",
     "output_type": "stream",
     "text": [
      "The Commod ity 173 \n",
      ":But they are founded either on the immaturity of man as an in­\n",
      ", dividual, when he has not yet torn himselfloose from the umbilical \n",
      ".: cord of his natural species-connection with other men, or on direct \n",
      "· ' relations of dominanc e and servitude. They are conditioned by a \n",
      "low stage of development of the productive powers of labour and \n",
      "... .correspondingly limited relations between men within the process \n",
      "of creating and reproducing their material life, hence also limited \n",
      "reiations between man and nature. These real limitations are re­\n",
      "fl�ted in the ancient worship of nature, and in other elements of \n",
      "tribal religions. The religious reflections of the real world can, in \n",
      "any case, vanish only when the practical relations of everyday life \n",
      "between man and man, and man and nature, generally present \n",
      "-themselves to him in a transparent and rational form. The veil is \n",
      "not removed from the countenanc e of the social life-process, i.e . \n",
      ". the process of material production , until it becomes production by \n",
      "freely associated men, and stands under their conscious and plan­\n",
      "ned control. This, however, requires that society possess a material \n",
      "foundation, or a series of material conditions of existence, which \n",
      "in their turn are the natural and spontaneous product of a long and \n",
      "·tormented historical development . \n",
      ":·Political economy has indeed analysed value and its magnitude, \n",
      "·'-���wever incompletely,33 and has uncovered the content concealed \n",
      "33. The insufficiency of Ricardo's analysis of the magnitude of value-and \n",
      "his analysis is by far the best-will appear from the third and fourth books of \n",
      "this work.* As regards value in general, classical political economy in fact \n",
      ":nowhere distinguishes explicitly and with a clear awareness between labour as \n",
      ", it appears in the value of a product, and the same labour as it appears in the \n",
      ". product's use-value. Of course the distinction is made in practice, since labour \n",
      "·is treated sometimes from its quantitative aspect, and at other times qualita­\n",
      ". tively. But it does not occur to the economists that a purely quantitative dis­\n",
      "<tinction between the kinds of labour presupposes their qualitative unity .or \n",
      ". equality, and therefore their reduction to abstract human labour. For instance; · \n",
      "Ricardo declares that he agrees with Destutt de Tracy when the latter says: \n",
      "'As it is certain that our physical and moral faculties are alone our original \n",
      "riches, the employment of those faculties, labour of some kind, is our origin�): \n",
      "treasure, and it is always from �his employment that all those. things ate · \n",
      "created which we call riches ... It is certain too, that all those things only·' \n",
      "represent the labour which has created them, and if they have a value, or even· \n",
      "two distinct values, they can only derive them from that' (the value) 'of the \n",
      "' labour from which they emanate ' (Ricardo, The Principles of Political Ecb• \n",
      "nomy, 3rd edn, London, 1821, p. 334).t We would here only point out that \n",
      "*These are the books that appeared, respectively, as Volume 3 of Capital, . \n",
      ". and Theories of Surplus' Value (3 volumes). \n",
      "' tDestutt de Tracy,E/emens d'ideologie, Parts 4 and 5, Paris, 1826, pp. 35-6. \n"
     ]
    }
   ],
   "source": [
    "print(page_text[48])"
   ]
  },
  {
   "cell_type": "markdown",
   "id": "1c71ab9f",
   "metadata": {},
   "source": [
    "We clearly see words associated with religion: \"religions,\" \"religious,\" and \"worship.\" Of course, appropriate word stemming would have put this word in the word count index by removing the plural from \"religions.\" But the point is that the SVD decomposition discovered this without seeing the literal word \"religion.\"\n",
    "\n",
    "The latent sematnics the method uncovers are sometimes mysterious and not always \"correct\". For example, the method found index page 41 as related to religion. But there's nothing obviously about religion on the page."
   ]
  },
  {
   "cell_type": "code",
   "execution_count": 14,
   "id": "1665171b",
   "metadata": {},
   "outputs": [
    {
     "name": "stdout",
     "output_type": "stream",
     "text": [
      "The word 'religion' does not appear on the page\n"
     ]
    }
   ],
   "source": [
    "if df.iloc[41, word_idx] == 0:\n",
    "    print(\"The word 'religion' does not appear on the page\")\n",
    "else:\n",
    "    print(\"The word 'religion' appears on the page\")"
   ]
  },
  {
   "cell_type": "code",
   "execution_count": 15,
   "id": "cda9d227",
   "metadata": {},
   "outputs": [
    {
     "name": "stdout",
     "output_type": "stream",
     "text": [
      "166 Commodities and Money \n",
      "the producers, therefore, the social relations between their private \n",
      "labours appear as what they are, i.e. they do not appear as direct \n",
      "social relations between persons in their work, but rather as \n",
      "material [dinglich] relations between persons and social relations \n",
      "between things. \n",
      "· It is only by being exchanged that the products of labour \n",
      "acquire a socially uniform objectivity as values, which is distinct \n",
      "from their sensuously varied objectivity as articles of utility. \n",
      "This division of the product of labour into a useful thing and a \n",
      "thing possessing value appears in practice only when exchange has \n",
      "already acquired a sufficient extension and importance to allow \n",
      "useful things to be produced for the purpose of being exchanged, \n",
      "so that their character as values has already to be taken into \n",
      "consideration during production. From this moment on, the \n",
      "labour of the individual producer acquires a twofold social \n",
      "character. On the one hand, it must, as a definite useful kind of \n",
      "labour, satisfy a definite social need, and thus maintain its posi­\n",
      "tion as an element of the total labour, as a branch of the social \n",
      "division of labour, which originally sprang up spontaneously. On \n",
      "the other hand, it can satisfy the manifold needs of the individual \n",
      "producer himself only in so far as every particular kind of useful \n",
      "private labour can be exchanged with, i.e. counts as the equal of, \n",
      "every other kind of useful private labour. Equality in the full sense \n",
      "between different kinds of labour can be arrived at only if we \n",
      "abstract from their real inequality, if we reduce them to the \n",
      "characteristic they have in common, that of being the expenditure \n",
      "of human labour-power, of human labour in the abstract. The \n",
      "private producer's brain reflects this twofold social character of \n",
      "his labour only in the forms which appear in practical intercourse, \n",
      "in the exchange of products. Hence the socially useful character \n",
      "of his private labour is reflected in the form that the product of \n",
      "labour has to be useful to others, and the social character of the \n",
      "equality of the various kinds of labour is reflected in ffi.e form of \n",
      "the common character, as values, possessed by these materially \n",
      "different things, the products of labour. · \n",
      "Men do not therefore bring the products of their labour into \n",
      "relation with each other as values because they see these· objects \n",
      "merely as the material integuments of homogeneous human \n",
      "labour. The reverse is true: by equating their.different products \n",
      "to each other in exchange as values, they equate their different \n",
      "kinds of labour as human labour. They do this without being \n"
     ]
    }
   ],
   "source": [
    "print(page_text[41])"
   ]
  },
  {
   "cell_type": "markdown",
   "id": "aeba9aa0",
   "metadata": {},
   "source": [
    "In a real project, we would probably need to do more processing because of how poor the OCR is in this pdf document. Nevertheless, LSA is a simple method that can uncover interesting results."
   ]
  },
  {
   "cell_type": "markdown",
   "id": "c2abe2a9",
   "metadata": {},
   "source": [
    "## References\n",
    "\n",
    "- Deerwester, S., Dumais, S. T., Furnas, G. W., Landauer, T. K., & Harshman, R. (1990). Indexing by latent semantic analysis. Journal of the American society for information science, 41(6), 391-407.\n",
    "- Marx, K. (2004). Capital: volume I (Vol. 1). Penguin UK.\n",
    "- Shalizi, C. R. (2016). Advanced data analysis from an elementary point of view. 2013. URL http://www.stat.cmu.edu/~cshalizi/ADAfaEPoV."
   ]
  }
 ],
 "metadata": {
  "kernelspec": {
   "display_name": "Python 3 (ipykernel)",
   "language": "python",
   "name": "python3"
  },
  "language_info": {
   "codemirror_mode": {
    "name": "ipython",
    "version": 3
   },
   "file_extension": ".py",
   "mimetype": "text/x-python",
   "name": "python",
   "nbconvert_exporter": "python",
   "pygments_lexer": "ipython3",
   "version": "3.9.6"
  }
 },
 "nbformat": 4,
 "nbformat_minor": 5
}
